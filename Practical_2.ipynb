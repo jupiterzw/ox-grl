{
 "cells": [
  {
   "cell_type": "markdown",
   "metadata": {
    "id": "hwLX9xkQgWo8"
   },
   "source": [
    "# Practical 2\n",
    "## A Graph Neural Network Model for Node Classification\n",
    "### (and how to build it from scratch)\n",
    "\n",
    "### Overview\n",
    "In this practical, you will implement the base graph neural network model from scratch (without using PyTorch Geometric), and prepare it for node classification. You will train your model for node classification on Cora dataset, which is an academic citation network. The task is to predict the category of each paper (which corresponds to a node in the citation network) among the seven available. We introduced the base graph neural network model in the course, as an instance of message passing neural networks, and studied a particular parameterization of this model.\n",
    "\n",
    "For each part and task, answer the given questions and complete the code where missing (this is indicated by the `pass` keyword)."
   ]
  },
  {
   "cell_type": "markdown",
   "metadata": {
    "id": "KIKfciO1h74B"
   },
   "source": [
    "## Part 0: Installing dependencies\n",
    "Despite the fact we will not use PyTorch Geometric to build the GNN, we will use it to handle the Cora dataset, as it is included in the base distribution.\n",
    "Follow the given instructions to set up your Colab notebook correctly.\n",
    "\n",
    "First of all, we advice you to enable GPU acceleration for your notebook. This can be done by navigating to `Runtime > Change runtime type > Hardware accelerator (GPU) > Save`. You may getting an error explaining that no GPUs are currently available. This is fine, you don't really need them for this practical, however they'll make your computations significantly faster.\n",
    "\n",
    "Some other tips & tricks:\n",
    "- press `Shift + Enter` to run a cell and move to the next one (`Ctrl + Enter` to only run it)\n",
    "- when you execute a cell, the variables you create are saved into a global namespace. As a consequence, changes in the code will not take effect until you re-run that specific cell.\n",
    "- remember to save your notebook every once in a while!"
   ]
  },
  {
   "cell_type": "code",
   "execution_count": 1,
   "metadata": {
    "colab": {
     "base_uri": "https://localhost:8080/"
    },
    "id": "rb2wIZQdTsDG",
    "outputId": "08afbd5f-7ec9-4b3d-d1c4-33a0bd72b83b"
   },
   "outputs": [
    {
     "name": "stdout",
     "output_type": "stream",
     "text": [
      "2.2.2\n"
     ]
    }
   ],
   "source": [
    "# Check PyTorch version installed on this system\n",
    "!python -c \"import torch; print(torch.__version__)\""
   ]
  },
  {
   "cell_type": "code",
   "execution_count": 2,
   "metadata": {
    "id": "uvLG28XMUSCF"
   },
   "outputs": [],
   "source": [
    "%%capture\n",
    "# Download the corresponding PyTorch Geometric module\n",
    "\"\"\"\n",
    "Assign to TORCH with what you get from the cell above. E.g., export TORCH=1.12.1+cu113\n",
    "\"\"\"\n",
    "%env TORCH=2.0.1+cu118\n",
    "!pip install torch-scatter -f https://data.pyg.org/whl/torch-${TORCH}.html\n",
    "!pip install torch-sparse -f https://data.pyg.org/whl/torch-${TORCH}.html\n",
    "!pip install torch-geometric"
   ]
  },
  {
   "cell_type": "markdown",
   "metadata": {
    "id": "EwIPZRdzlSTY"
   },
   "source": [
    "## Part 1: Building a GNN\n",
    "In this part, you will build a GNN using PyTorch, aiming to emulate the PyTorch Geometric modules. You will construct your neural network using PyTorch nn modules, and build training and testing helper functions to train and evaluate your model."
   ]
  },
  {
   "cell_type": "markdown",
   "metadata": {
    "id": "Bh2SbPurluzN"
   },
   "source": [
    "### Task 1.1\n",
    "Understand the base structure of a PyTorch neural network model, namely `torch.nn.Module`, and build your GNN as a class with its own instantiation of `__init__` and `forward`. You will define GNN components within `__init__`, and construct the GNN data flow in `forward`. We recommend that you construct your model such that the number of layers is parametrized. That is, you can increase or decrease the number of layers simply by changing the range of an inner loop that creates the needed layers.\n",
    "\n",
    "Furthermore, as a node classification GNN is composed by a sequence of Graph Convolution Layers and by a Multi Layer Perceptron head used to classify each node, we suggest to define a separate module for each of these components, and then aggregate them together in the final model."
   ]
  },
  {
   "cell_type": "code",
   "execution_count": 3,
   "metadata": {
    "colab": {
     "base_uri": "https://localhost:8080/"
    },
    "id": "muJ-TbV6muhI",
    "outputId": "dcee5375-aaa9-4ab6-803d-3675f9a3d62e"
   },
   "outputs": [
    {
     "name": "stderr",
     "output_type": "stream",
     "text": [
      "/opt/anaconda3/envs/GRL/lib/python3.9/site-packages/torch_geometric/data/in_memory_dataset.py:300: UserWarning: It is not recommended to directly access the internal storage format `data` of an 'InMemoryDataset'. If you are absolutely certain what you are doing, access the internal storage via `InMemoryDataset._data` instead to suppress this warning. Alternatively, you can access stacked individual attributes of every graph via `dataset.{attr_name}`.\n",
      "  warnings.warn(msg)\n"
     ]
    }
   ],
   "source": [
    "# Let's first import all the things we are gonna need for this task\n",
    "\n",
    "import torch\n",
    "import torch.nn as nn\n",
    "import numpy as np\n",
    "import matplotlib.pyplot as plt\n",
    "import torch.nn.functional as F\n",
    "# torch_geometric only used to load the Cora dataset\n",
    "from torch_geometric.datasets import Planetoid\n",
    "from torch_geometric.loader import DataLoader\n",
    "import torch_geometric.utils as U\n",
    "\n",
    "device = torch.device(\"cuda\") if torch.cuda.is_available() else torch.device(\"cpu\")\n",
    "\n",
    "dataset = Planetoid(\"/tmp/Cora\", name=\"Cora\")\n",
    "num_nodes = dataset.data.num_nodes\n",
    "num_edges = dataset.data.num_edges // 2\n",
    "num_features = dataset.num_node_features\n",
    "num_classes = dataset.num_classes"
   ]
  },
  {
   "cell_type": "code",
   "execution_count": 4,
   "metadata": {},
   "outputs": [
    {
     "name": "stdout",
     "output_type": "stream",
     "text": [
      "1433\n",
      "7\n"
     ]
    }
   ],
   "source": [
    "print(num_features)\n",
    "print(num_classes)"
   ]
  },
  {
   "cell_type": "markdown",
   "metadata": {
    "id": "8rwDJj57m-H3"
   },
   "source": [
    "Please complete the following classes, adding the respective `__init__` and `forward` methods.  \n",
    "Please construct your model such that the number of layers is parametrized. That is, you can increase or decrease the number of layers simply by changing the range of an inner loop that creates the needed layers. In general, try to hard-code the least amount of behaviour inside your network. Prefer, instead, the use of parameters passed during initialization, as it will come in handy later on (e.g., you can chosse to hard code the activation functions used for each model but also leave them as a model parameter)."
   ]
  },
  {
   "cell_type": "markdown",
   "metadata": {
    "id": "D0jVmuI-u0uF"
   },
   "source": [
    "A `GNNLayer` computes the operations seen in the lectures, that is, at node level:\n",
    "\n",
    "$$\n",
    "h_i^{(t+1)} = \\sigma\\left(\\mathbf{W}^{(t)}_{self} h_i^{(t)} + \\mathbf{W}^{(t)}_{neigh} \\sum_{j \\in neigh(i)} h_j^{(t)}\\right).\n",
    "$$\n",
    "\n",
    "At graph level (note the transpose here):\n",
    "\n",
    "$$\n",
    "\\mathbf{H}^{(t)}=\\sigma\\left(\\mathbf{H}^{(t-1)} (\\mathbf{W}_{self}^{(t)})^{\\top} +\\mathbf{A} \\mathbf{H}^{(t-1)} (\\mathbf{W}_{n e i g h}^{(t)})^{\\top} \\right).\n",
    "$$\n",
    "\n",
    "Remember that PyTorch is realy efficient in parallelizing computations by vectorizing them. In other words, you don't need to (you must not!) loop over all the neighbours of each node to compute the summation in the above equation. Use instead matrix operations."
   ]
  },
  {
   "cell_type": "code",
   "execution_count": 5,
   "metadata": {
    "id": "TU3I3uOMNlIe"
   },
   "outputs": [],
   "source": [
    "class GNNLayer(nn.Module):\n",
    "\n",
    "\tdef __init__(self, input_dim, output_dim):\n",
    "\t\tsuper(GNNLayer, self).__init__()\n",
    "\t\tself.w_self = nn.Linear(input_dim, output_dim)\n",
    "\t\tself.w_neigh = nn.Linear(input_dim, output_dim)\n",
    "\n",
    "\n",
    "\tdef forward(self, node_feats, adj_matrix):\n",
    "\t\t# Use graph-level expression\n",
    "\t\tresult = (self.w_self(node_feats) + adj_matrix @ self.w_neigh(node_feats))\n",
    "\t\treturn result\n"
   ]
  },
  {
   "cell_type": "markdown",
   "metadata": {
    "id": "MOXzfLBRuFJ5"
   },
   "source": [
    "The `GNNModule` is a collection of GNNLayers. In PyTorch you can create a list of layers by using `nn.ModuleList(layer_1, layer_2, ...)` or, equivalentely `nn.ModuleList(*layer_list)`. Remember activation functions!"
   ]
  },
  {
   "cell_type": "code",
   "execution_count": 6,
   "metadata": {
    "id": "TEnA7gA9pYU3"
   },
   "outputs": [],
   "source": [
    "class GNNModule(nn.Module):\n",
    "\n",
    "\tdef __init__(self, input_dim, hidden_dim, output_dim, num_layers=2, act_fn=nn.ReLU):\n",
    "\t\tsuper(GNNModule, self).__init__()\n",
    "\t\tself.num_layers = num_layers\n",
    "\t\tself.input_dim = input_dim\n",
    "\t\tself.hidden_dim = hidden_dim\n",
    "\t\tself.output_dim = output_dim\n",
    "\t\tself.act_fun = act_fn()\n",
    "\n",
    "\t\tself.gnn_layers = nn.ModuleList()\n",
    "\t\tfor i in range(num_layers):\n",
    "\t\t\tif i == 0:\n",
    "\t\t\t\tself.gnn_layers.append((GNNLayer(input_dim, hidden_dim)))\n",
    "\t\t\telif i == num_layers - 1:\n",
    "\t\t\t\tself.gnn_layers.append((GNNLayer(hidden_dim, output_dim)))\n",
    "\t\t\telse:\n",
    "\t\t\t\tself.gnn_layers.append((GNNLayer(hidden_dim, hidden_dim)))\n",
    "\n",
    "\n",
    "\tdef forward(self, x, adj_matrix):\n",
    "\t\tfor layer in self.gnn_layers:\n",
    "\t\t\t\tx = self.act_fun(layer(x, adj_matrix))\n",
    "\t\treturn x\n"
   ]
  },
  {
   "cell_type": "markdown",
   "metadata": {
    "id": "Rbm-Dwnfs8kZ"
   },
   "source": [
    "The `MLPModule` is a classification head that you apply to each node in the input graph after applying the gnn layers. It is a collection of `nn.Linear` layers."
   ]
  },
  {
   "cell_type": "code",
   "execution_count": 7,
   "metadata": {},
   "outputs": [],
   "source": [
    "class MLPLayer(nn.Module):\n",
    "\n",
    "\tdef __init__(self, input_dim, output_dim):\n",
    "\t\tsuper(MLPLayer, self).__init__()\n",
    "\t\tself.w = nn.Linear(input_dim, output_dim)\n",
    "\n",
    "\tdef forward(self, x):\n",
    "\t\tresult = self.w(x)\n",
    "\t\treturn result"
   ]
  },
  {
   "cell_type": "code",
   "execution_count": 8,
   "metadata": {
    "id": "kRzeNjIWXLpD"
   },
   "outputs": [],
   "source": [
    "class MLPModule(nn.Module):\n",
    "\tdef __init__(self, input_dim, hidden_dim, output_dim, num_layers=2, act_fn=nn.ReLU):\n",
    "\t\tsuper(MLPModule, self).__init__()\n",
    "\t\tself.num_layers = num_layers\n",
    "\t\tself.input_dim = input_dim\n",
    "\t\tself.hidden_dim = hidden_dim\n",
    "\t\tself.output_dim = output_dim\n",
    "\t\tself.act_fun = act_fn()\n",
    "\n",
    "\t\tself.gnn_layers = nn.ModuleList()\n",
    "\t\tfor i in range(num_layers):\n",
    "\t\t\tif i == 0:\n",
    "\t\t\t\tself.gnn_layers.append((MLPLayer(input_dim, hidden_dim)))\n",
    "\t\t\telif i == num_layers - 1:\n",
    "\t\t\t\tself.gnn_layers.append((MLPLayer(hidden_dim, output_dim)))\n",
    "\t\t\telse:\n",
    "\t\t\t\tself.gnn_layers.append((MLPLayer(hidden_dim, hidden_dim)))\n",
    "\n",
    "\n",
    "\tdef forward(self, x):\n",
    "\t\tfor layer in self.gnn_layers:\n",
    "\t\t\tx = self.act_fun(layer(x))\n",
    "\t\treturn x"
   ]
  },
  {
   "cell_type": "markdown",
   "metadata": {
    "id": "B3sUDyK6wUMc"
   },
   "source": [
    "Let's aggregate everything in a single class:"
   ]
  },
  {
   "cell_type": "code",
   "execution_count": 9,
   "metadata": {
    "id": "cNVsovJTYk7X"
   },
   "outputs": [],
   "source": [
    "class CoraNodeClassification(nn.Module):\n",
    "\n",
    "\tdef __init__(self, input_dim, hidden_dim, output_dim, gnn_act_fn, mlp_act_fn):\n",
    "\t\tsuper(CoraNodeClassification, self).__init__()\n",
    "\t\tself.input_dim = input_dim\n",
    "\t\tself.hidden_dim = hidden_dim\n",
    "\t\tself.output_dim = output_dim\n",
    "\t\tself.gnn = GNNModule(input_dim, hidden_dim, hidden_dim, act_fn = gnn_act_fn)\n",
    "\t\tself.mlp = MLPModule(hidden_dim, hidden_dim, output_dim, act_fn = mlp_act_fn)\n",
    "\t\tself.loss_fn = nn.CrossEntropyLoss()\n",
    "\n",
    "\tdef forward(self, features, adj_matrix):\n",
    "\t\tx = self.gnn(features, adj_matrix)\n",
    "\t\tx = self.mlp(x)\n",
    "\t\treturn x\n",
    "\n",
    "\t# Used to reset the weights of the network when training multiple times with\n",
    "\t# different hyperparameters\n",
    "\tdef reset_parameters(self):\n",
    "\t\tdef _reset_module_parameters(module): #_ indicates internal function\n",
    "\t\t\tfor layer in module.children():\n",
    "\t\t\t\tif hasattr(layer, 'reset_parameters'):\n",
    "\t\t\t\t\tlayer.reset_parameters()\n",
    "\t\t\t\telif hasattr(layer, 'children'):\n",
    "\t\t\t\t\tfor child_layer in layer.children():\n",
    "\t\t\t\t\t\t_reset_module_parameters(child_layer)\n",
    "\n",
    "\t\t_reset_module_parameters(self)"
   ]
  },
  {
   "cell_type": "markdown",
   "metadata": {
    "id": "jfeXY4_koR86"
   },
   "source": [
    "### Task 1.2\n",
    "Create dedicated functions for training and testing. For training, your functions should return a vector containing the train loss and accuracy after each epoch (since Cora contains a single graph one epoch corresponds to one training iteration). You can also print out those values while the training it's running. However, given the large number of epochs, we advise you print every 8 steps or so. Your test function should return the final accuracy on the test set. If everything works correctly you should get around ~75% accuracy.\n",
    "\n",
    "Cora uses a masking approach to divide between the train and test set. Therefore, to compute the loss/accuracy, mask out the part of your output based on the current settings, e.g., `loss = model.loss_fn(y[data.train_mask], data.y[data.train_mask])`"
   ]
  },
  {
   "cell_type": "code",
   "execution_count": 10,
   "metadata": {},
   "outputs": [
    {
     "name": "stdout",
     "output_type": "stream",
     "text": [
      "torch.Size([1, 4, 4])\n"
     ]
    },
    {
     "data": {
      "text/plain": [
       "tensor([[[1., 1., 0., 0.],\n",
       "         [1., 0., 0., 0.],\n",
       "         [0., 0., 0., 1.],\n",
       "         [1., 0., 0., 0.]]])"
      ]
     },
     "execution_count": 10,
     "metadata": {},
     "output_type": "execute_result"
    }
   ],
   "source": [
    "# Test `to_dense_adj`\n",
    "# Convert COO to adjacency matrix format\n",
    "edge_index = torch.tensor([[0, 0, 1, 2, 3],\n",
    "                           [0, 1, 0, 3, 0]])\n",
    "print(U.to_dense_adj(edge_index).size()) # squeeze the 0th dimension since it's always 1\n",
    "U.to_dense_adj(edge_index)"
   ]
  },
  {
   "cell_type": "code",
   "execution_count": 11,
   "metadata": {
    "id": "UA98VowGrOtM"
   },
   "outputs": [],
   "source": [
    "# The Cora dataset contains a single graph of 2708 nodes (i.e., papers).\n",
    "# We will use some of the nodes as training set and some as test set.\n",
    "data = dataset[0].to(device)\n",
    "\n",
    "# According to the GNN equations, we need the adjacency matrix to compute each\n",
    "# layer convolution. The following line convert the sparse data\n",
    "# (i.e., list of edges) stored in the dataset in a single dense matrix.\n",
    "adj_matrix = U.to_dense_adj(data.edge_index).squeeze(0)\n",
    "\n",
    "# Define the hyperparameters we are gonna use:\n",
    "params = {\n",
    "\t\"hidden_features\": 128,\n",
    "\t\"num_gcn_layers\": 2,\n",
    "\t\"num_mlp_layers\": 2,\n",
    "\t\"learning_rate\": 1e-4,\n",
    "\t\"weight_decay\": 0,\n",
    "\t\"num_epochs\": 256,\n",
    "}\n",
    "\n",
    "# Remember to move the model to the correct device using `.to(device)`\n",
    "# The arguments to be passed to the class CoraNodeClassification __init__ functions\n",
    "# depends on how you defined the method. This is an example.\n",
    "model = CoraNodeClassification(num_features,\n",
    "\t\t\t\t\t\t\t   params[\"hidden_features\"],\n",
    "\t\t\t\t\t\t\t   num_classes,\n",
    "\t\t\t\t\t\t\t   gnn_act_fn=nn.ReLU, #ID is the identity function, replace it with the activation function you'd like to use\n",
    "\t\t\t\t\t\t\t   mlp_act_fn=nn.ReLU\n",
    "  ).to(device)"
   ]
  },
  {
   "cell_type": "code",
   "execution_count": 12,
   "metadata": {},
   "outputs": [
    {
     "name": "stdout",
     "output_type": "stream",
     "text": [
      "GNNModule(\n",
      "  (act_fun): ReLU()\n",
      "  (gnn_layers): ModuleList(\n",
      "    (0): GNNLayer(\n",
      "      (w_self): Linear(in_features=1433, out_features=128, bias=True)\n",
      "      (w_neigh): Linear(in_features=1433, out_features=128, bias=True)\n",
      "    )\n",
      "    (1): GNNLayer(\n",
      "      (w_self): Linear(in_features=128, out_features=128, bias=True)\n",
      "      (w_neigh): Linear(in_features=128, out_features=128, bias=True)\n",
      "    )\n",
      "  )\n",
      ")\n",
      "MLPModule(\n",
      "  (act_fun): ReLU()\n",
      "  (gnn_layers): ModuleList(\n",
      "    (0): MLPLayer(\n",
      "      (w): Linear(in_features=128, out_features=128, bias=True)\n",
      "    )\n",
      "    (1): MLPLayer(\n",
      "      (w): Linear(in_features=128, out_features=7, bias=True)\n",
      "    )\n",
      "  )\n",
      ")\n",
      "CrossEntropyLoss()\n"
     ]
    }
   ],
   "source": [
    "# Use children() to list immediate submodules\n",
    "for child in model.children():\n",
    "    print(child)"
   ]
  },
  {
   "cell_type": "code",
   "execution_count": 13,
   "metadata": {
    "colab": {
     "base_uri": "https://localhost:8080/"
    },
    "id": "ZtxJP6UIsisP",
    "outputId": "a007bc56-da8b-4992-89f9-9367d04523f5"
   },
   "outputs": [
    {
     "data": {
      "text/plain": [
       "Data(x=[2708, 1433], edge_index=[2, 10556], y=[2708], train_mask=[2708], val_mask=[2708], test_mask=[2708])"
      ]
     },
     "execution_count": 13,
     "metadata": {},
     "output_type": "execute_result"
    }
   ],
   "source": [
    "# CHECK WITH THE DATA\n",
    "data\n"
   ]
  },
  {
   "cell_type": "code",
   "execution_count": 14,
   "metadata": {
    "colab": {
     "base_uri": "https://localhost:8080/"
    },
    "id": "9TmqadEefi5X",
    "outputId": "21e1325a-f759-4ffa-a43d-b823e9193edc"
   },
   "outputs": [
    {
     "data": {
      "text/plain": [
       "0.158"
      ]
     },
     "execution_count": 14,
     "metadata": {},
     "output_type": "execute_result"
    }
   ],
   "source": [
    "def test(model, data, adj_matrix, params):\n",
    "\tmodel.eval()\n",
    "\twith torch.no_grad():\n",
    "\t\tout = model(data.x, adj_matrix) # of shape [#nodes, #classes]\n",
    "\t\tpred = out.argmax(dim=1) # of shape [#nodes, ]\n",
    "\t\tcorrect = pred[data.test_mask].eq(data.y[data.test_mask]).sum().item()\n",
    "\t\ttest_accuracy = correct / data.test_mask.sum().item()\n",
    "\n",
    "\treturn test_accuracy\n",
    "\n",
    "\n",
    "# By testing a random initialized module you should get around ~15% accuracy\n",
    "test(model, data, adj_matrix, params)"
   ]
  },
  {
   "cell_type": "code",
   "execution_count": 15,
   "metadata": {
    "id": "ycmyiU4VYOqU"
   },
   "outputs": [],
   "source": [
    "def train(model, data, adj_matrix, params):\n",
    "\tmodel.train()  # Set the model to training mode\n",
    "\toptimizer = torch.optim.Adam(\n",
    "\t\tmodel.parameters(),\n",
    "\t\tlr=params[\"learning_rate\"],\n",
    "\t\tweight_decay=params[\"weight_decay\"]\n",
    "\t)\n",
    "\n",
    "\t# Lists to store metrics over epochs\n",
    "\tlosses = []\n",
    "\ttrain_accuracies = []\n",
    "\ttest_accuracies = []\n",
    "\n",
    "\tfor epoch in range(params[\"num_epochs\"]):\n",
    "\t\toptimizer.zero_grad()\n",
    "\t\tout = model(data.x, adj_matrix)\n",
    "\t\tloss = model.loss_fn(out[data.train_mask], data.y[data.train_mask])\n",
    "\n",
    "\t\tloss.backward()\n",
    "\t\toptimizer.step()\n",
    "\n",
    "\t\tpred = out.argmax(dim=1)\n",
    "\t\ttrain_correct = pred[data.train_mask].eq(data.y[data.train_mask]).sum().item()\n",
    "\t\ttrain_accuracy = train_correct / data.train_mask.sum().item()\n",
    "\n",
    "\t\t# Evaluate test accuracy\n",
    "\t\tmodel.eval()\n",
    "\t\twith torch.no_grad():\n",
    "\t\t\ttest_correct = pred[data.test_mask].eq(data.y[data.test_mask]).sum().item()\n",
    "\t\t\ttest_accuracy = test_correct / data.test_mask.sum().item()\n",
    "\t\t\t\n",
    "\t\tmodel.train()  # Switch back to training mode\n",
    "\n",
    "\t\t# Store metrics\n",
    "\t\tlosses.append(loss.item())\n",
    "\t\ttrain_accuracies.append(train_accuracy)\n",
    "\t\ttest_accuracies.append(test_accuracy)\n",
    "\n",
    "\t\t# Print metrics at intervals\n",
    "\t\tif epoch % params.get(\"log_interval\", 10) == 0:\n",
    "\t\t\tprint(f\"Epoch {epoch}/{params['num_epochs']} - Loss: {loss.item():.4f}, \"\n",
    "\t\t\t\t  f\"Train Accuracy: {train_accuracy:.4f}, Test Accuracy: {test_accuracy:.4f}\")\n",
    "\n",
    "\treturn train_accuracies, test_accuracies\n",
    "\n",
    "\n",
    "\n",
    "# train_accuracies, test_accuracies = train(model, data, adj_matrix, params)\n",
    "# # Now you shold get around ~75-77%!\n",
    "# test_accuracy = test(model, data, adj_matrix, params)\n",
    "# print(\"Final test accuracy:\", test_accuracy)"
   ]
  },
  {
   "cell_type": "markdown",
   "metadata": {
    "id": "rf6ZviVq3CVJ"
   },
   "source": [
    "#### Task 1.2.1\n",
    "Can you modify the training function to return the test accuracy at every step as well?\n",
    "By plotting the train accuracy and test accuracy over time, what can you observe?\n"
   ]
  },
  {
   "cell_type": "code",
   "execution_count": 16,
   "metadata": {
    "colab": {
     "base_uri": "https://localhost:8080/",
     "height": 889
    },
    "id": "vGI6Fo7n3VBz",
    "outputId": "1c7ce1a6-ee55-463d-c591-5b8de8472913"
   },
   "outputs": [
    {
     "name": "stdout",
     "output_type": "stream",
     "text": [
      "Epoch 0/256 - Loss: 1.9375, Train Accuracy: 0.1714, Test Accuracy: 0.1580\n",
      "Epoch 10/256 - Loss: 1.7823, Train Accuracy: 0.4071, Test Accuracy: 0.2650\n",
      "Epoch 20/256 - Loss: 1.6619, Train Accuracy: 0.6000, Test Accuracy: 0.4150\n",
      "Epoch 30/256 - Loss: 1.5515, Train Accuracy: 0.6429, Test Accuracy: 0.4770\n",
      "Epoch 40/256 - Loss: 1.4427, Train Accuracy: 0.6714, Test Accuracy: 0.4910\n",
      "Epoch 50/256 - Loss: 1.3238, Train Accuracy: 0.6786, Test Accuracy: 0.5070\n",
      "Epoch 60/256 - Loss: 1.1969, Train Accuracy: 0.6857, Test Accuracy: 0.5220\n",
      "Epoch 70/256 - Loss: 1.0620, Train Accuracy: 0.7357, Test Accuracy: 0.5430\n",
      "Epoch 80/256 - Loss: 0.8833, Train Accuracy: 0.8214, Test Accuracy: 0.6360\n",
      "Epoch 90/256 - Loss: 0.7500, Train Accuracy: 0.8286, Test Accuracy: 0.6680\n",
      "Epoch 100/256 - Loss: 0.6422, Train Accuracy: 0.8286, Test Accuracy: 0.6730\n",
      "Epoch 110/256 - Loss: 0.5595, Train Accuracy: 0.8357, Test Accuracy: 0.6840\n",
      "Epoch 120/256 - Loss: 0.4972, Train Accuracy: 0.8429, Test Accuracy: 0.6880\n",
      "Epoch 130/256 - Loss: 0.4509, Train Accuracy: 0.8500, Test Accuracy: 0.6990\n",
      "Epoch 140/256 - Loss: 0.4161, Train Accuracy: 0.8571, Test Accuracy: 0.7040\n",
      "Epoch 150/256 - Loss: 0.3892, Train Accuracy: 0.8571, Test Accuracy: 0.7090\n",
      "Epoch 160/256 - Loss: 0.3684, Train Accuracy: 0.8571, Test Accuracy: 0.7160\n",
      "Epoch 170/256 - Loss: 0.3518, Train Accuracy: 0.8571, Test Accuracy: 0.7170\n",
      "Epoch 180/256 - Loss: 0.3387, Train Accuracy: 0.8571, Test Accuracy: 0.7160\n",
      "Epoch 190/256 - Loss: 0.3283, Train Accuracy: 0.8571, Test Accuracy: 0.7170\n",
      "Epoch 200/256 - Loss: 0.3202, Train Accuracy: 0.8571, Test Accuracy: 0.7170\n",
      "Epoch 210/256 - Loss: 0.3134, Train Accuracy: 0.8571, Test Accuracy: 0.7150\n",
      "Epoch 220/256 - Loss: 0.3081, Train Accuracy: 0.8571, Test Accuracy: 0.7200\n",
      "Epoch 230/256 - Loss: 0.3037, Train Accuracy: 0.8571, Test Accuracy: 0.7200\n",
      "Epoch 240/256 - Loss: 0.3000, Train Accuracy: 0.8571, Test Accuracy: 0.7220\n",
      "Epoch 250/256 - Loss: 0.2972, Train Accuracy: 0.8571, Test Accuracy: 0.7190\n"
     ]
    },
    {
     "data": {
      "image/png": "[encoded data removed]",
      "text/plain": [
       "<Figure size 640x480 with 1 Axes>"
      ]
     },
     "metadata": {},
     "output_type": "display_data"
    },
    {
     "name": "stdout",
     "output_type": "stream",
     "text": [
      "Final test accuracy: 0.719\n"
     ]
    }
   ],
   "source": [
    "model.reset_parameters() # I don't know why this doesn't reset model parameters :( yet I'm still using it here and in later blocks\n",
    "train_accuracies, test_accuracies = train(model, data, adj_matrix, params)\n",
    "\n",
    "plt.plot(train_accuracies, label='Train Accuracy', color='blue')\n",
    "plt.plot(test_accuracies, label='Test Accuracy', color='green')\n",
    "plt.xlabel('Epochs')\n",
    "plt.ylabel('Accuracy')\n",
    "plt.title('Training and Testing Accuracies Over Epochs')\n",
    "plt.legend()\n",
    "plt.show()\n",
    "\n",
    "print(\"Final test accuracy:\", test_accuracies[-1])"
   ]
  },
  {
   "cell_type": "markdown",
   "metadata": {
    "id": "imWx-ZW-9Ydo"
   },
   "source": [
    "## Part 2: Ablation Studies (Optional)"
   ]
  },
  {
   "cell_type": "markdown",
   "metadata": {
    "id": "6R9lWeiNsLpD"
   },
   "source": [
    "### 2.1: Importance of GNN and MLP modules\n",
    "Add a parameter to the `CoraNodeClassification` class that allows you to select which modules to enable: only GNN, only MLP, or both. For example, your `forward` should look similarly to the following:\n",
    "\n",
    "```python\n",
    "def forward(self, x, adj_matrix):\n",
    "\tif self.gnn is not None:\n",
    "\t\tx = self.gnn(x, adj_matrix)\n",
    "\t\n",
    "\tif self.mlp is not None:\n",
    "\t\tx = self.mlp(x)\n",
    "\n",
    "\treturn x\n",
    "```\n",
    "\n",
    "What is the impact of the two modules on the final result? Play a little around `hidden_features` and `num_layers` and briefly describe what you observe."
   ]
  },
  {
   "cell_type": "code",
   "execution_count": 17,
   "metadata": {
    "id": "mhFLlmGet7r_"
   },
   "outputs": [],
   "source": [
    "class CoraNodeClassification_mode(nn.Module):\n",
    "\n",
    "\tdef __init__(self, input_dim, hidden_dim, output_dim, gnn_act_fn, mlp_act_fn):\n",
    "\t\tsuper(CoraNodeClassification_mode, self).__init__()\n",
    "\t\tself.input_dim = input_dim\n",
    "\t\tself.hidden_dim = hidden_dim\n",
    "\t\tself.output_dim = output_dim\n",
    "\t\tself.gnn = GNNModule(input_dim, hidden_dim, hidden_dim, act_fn = gnn_act_fn)\n",
    "\t\tself.mlp = MLPModule(hidden_dim, hidden_dim, output_dim, act_fn = mlp_act_fn)\n",
    "\t\tself.gnn_only = GNNModule(input_dim, hidden_dim, output_dim, act_fn = gnn_act_fn)\n",
    "\t\tself.mlp_only = MLPModule(input_dim, hidden_dim, output_dim, act_fn = mlp_act_fn)\n",
    "\t\tself.loss_fn = nn.CrossEntropyLoss()\n",
    "\n",
    "\tdef forward(self, features, adj_matrix, mode = \"both\"):\n",
    "\t\t# mode : gnn, mlp, both\n",
    "\t\tif mode == \"gnn\":\n",
    "\t\t\tx = self.gnn_only(features, adj_matrix)\n",
    "\t\telif mode == \"mlp\":\n",
    "\t\t\tx = self.mlp_only(features)\n",
    "\t\telse:\n",
    "\t\t\tx = self.gnn(features, adj_matrix)\n",
    "\t\t\tx = self.mlp(x)\n",
    "\t\treturn x\n",
    "\n",
    "\n",
    "\t# Used to reset the weights of the network when training multiple times with\n",
    "\t# different hyperparameters\n",
    "\tdef reset_parameters(self):\n",
    "\t\tdef _reset_module_parameters(module):\n",
    "\t\t\tfor layer in module.children():\n",
    "\t\t\t\tif hasattr(layer, 'reset_parameters'):\n",
    "\t\t\t\t\tlayer.reset_parameters()\n",
    "\t\t\t\telif hasattr(layer, 'children'):\n",
    "\t\t\t\t\tfor child_layer in layer.children():\n",
    "\t\t\t\t\t\t_reset_module_parameters(child_layer)\n",
    "\n",
    "\t\t_reset_module_parameters(self)"
   ]
  },
  {
   "cell_type": "code",
   "execution_count": 18,
   "metadata": {
    "id": "2n5iHsNpyTpH"
   },
   "outputs": [],
   "source": [
    "model = CoraNodeClassification_mode(num_features,\n",
    "\t\t\t\t\t\t\t   params[\"hidden_features\"],\n",
    "\t\t\t\t\t\t\t   num_classes,\n",
    "\t\t\t\t\t\t\t   gnn_act_fn=nn.ReLU, #ID is the identity function, replace it with the activation function you'd like to use\n",
    "\t\t\t\t\t\t\t   mlp_act_fn=nn.ReLU\n",
    "  ).to(device)"
   ]
  },
  {
   "cell_type": "code",
   "execution_count": 19,
   "metadata": {
    "id": "7ltQAqfHyInA"
   },
   "outputs": [],
   "source": [
    "def train(model, data, adj_matrix, params, mode = \"both\"):\n",
    "\tmodel.train()  # Set the model to training mode\n",
    "\toptimizer = torch.optim.Adam(\n",
    "\t\tmodel.parameters(),\n",
    "\t\tlr=params[\"learning_rate\"],\n",
    "\t\tweight_decay=params[\"weight_decay\"]\n",
    "\t)\n",
    "\n",
    "\t# Lists to store metrics over epochs\n",
    "\tlosses = []\n",
    "\ttrain_accuracies = []\n",
    "\ttest_accuracies = []\n",
    "\n",
    "\tfor epoch in range(params[\"num_epochs\"]):\n",
    "\t\toptimizer.zero_grad()\n",
    "\t\tout = model(data.x, adj_matrix, mode = mode)\n",
    "\t\tloss = model.loss_fn(out[data.train_mask], data.y[data.train_mask])\n",
    "\n",
    "\t\tloss.backward()\n",
    "\t\toptimizer.step()\n",
    "\n",
    "\t\tpred = out.argmax(dim=1)\n",
    "\t\ttrain_correct = pred[data.train_mask].eq(data.y[data.train_mask]).sum().item()\n",
    "\t\ttrain_accuracy = train_correct / data.train_mask.sum().item()\n",
    "\n",
    "\t\t# Evaluate test accuracy\n",
    "\t\tmodel.eval()\n",
    "\t\twith torch.no_grad():\n",
    "\t\t\ttest_correct = pred[data.test_mask].eq(data.y[data.test_mask]).sum().item()\n",
    "\t\t\ttest_accuracy = test_correct / data.test_mask.sum().item()\n",
    "\t\tmodel.train()  # Switch back to training mode\n",
    "\n",
    "\t\t# Store metrics\n",
    "\t\tlosses.append(loss.item())\n",
    "\t\ttrain_accuracies.append(train_accuracy)\n",
    "\t\ttest_accuracies.append(test_accuracy)\n",
    "\n",
    "\t\t# Print metrics at intervals\n",
    "\t\tif epoch % params.get(\"log_interval\", 10) == 0:\n",
    "\t\t\tprint(f\"Epoch {epoch}/{params['num_epochs']} - Loss: {loss.item():.4f}, \"\n",
    "\t\t\t\t  f\"Train Accuracy: {train_accuracy:.4f}, Test Accuracy: {test_accuracy:.4f}\")\n",
    "\n",
    "\treturn train_accuracies, test_accuracies\n"
   ]
  },
  {
   "cell_type": "code",
   "execution_count": 20,
   "metadata": {
    "colab": {
     "base_uri": "https://localhost:8080/",
     "height": 889
    },
    "id": "_20U0TYrx8u3",
    "outputId": "80c426a6-17db-41c8-f8f2-e44a23191341"
   },
   "outputs": [
    {
     "name": "stdout",
     "output_type": "stream",
     "text": [
      "Epoch 0/256 - Loss: 2.2493, Train Accuracy: 0.1214, Test Accuracy: 0.2450\n",
      "Epoch 10/256 - Loss: 1.7499, Train Accuracy: 0.4071, Test Accuracy: 0.3810\n",
      "Epoch 20/256 - Loss: 1.5710, Train Accuracy: 0.5000, Test Accuracy: 0.4460\n",
      "Epoch 30/256 - Loss: 1.4247, Train Accuracy: 0.5500, Test Accuracy: 0.4820\n",
      "Epoch 40/256 - Loss: 1.2880, Train Accuracy: 0.6143, Test Accuracy: 0.5140\n",
      "Epoch 50/256 - Loss: 1.0669, Train Accuracy: 0.7143, Test Accuracy: 0.5550\n",
      "Epoch 60/256 - Loss: 0.9580, Train Accuracy: 0.7286, Test Accuracy: 0.5620\n",
      "Epoch 70/256 - Loss: 0.8770, Train Accuracy: 0.7286, Test Accuracy: 0.5650\n",
      "Epoch 80/256 - Loss: 0.8185, Train Accuracy: 0.7357, Test Accuracy: 0.5610\n",
      "Epoch 90/256 - Loss: 0.7719, Train Accuracy: 0.7357, Test Accuracy: 0.5600\n",
      "Epoch 100/256 - Loss: 0.7342, Train Accuracy: 0.7357, Test Accuracy: 0.5700\n",
      "Epoch 110/256 - Loss: 0.6953, Train Accuracy: 0.7786, Test Accuracy: 0.5740\n",
      "Epoch 120/256 - Loss: 0.5285, Train Accuracy: 0.8571, Test Accuracy: 0.6140\n",
      "Epoch 130/256 - Loss: 0.4675, Train Accuracy: 0.8571, Test Accuracy: 0.6370\n",
      "Epoch 140/256 - Loss: 0.4352, Train Accuracy: 0.8571, Test Accuracy: 0.6510\n",
      "Epoch 150/256 - Loss: 0.4130, Train Accuracy: 0.8571, Test Accuracy: 0.6520\n",
      "Epoch 160/256 - Loss: 0.3960, Train Accuracy: 0.8571, Test Accuracy: 0.6460\n",
      "Epoch 170/256 - Loss: 0.3824, Train Accuracy: 0.8571, Test Accuracy: 0.6460\n",
      "Epoch 180/256 - Loss: 0.3712, Train Accuracy: 0.8571, Test Accuracy: 0.6460\n",
      "Epoch 190/256 - Loss: 0.3618, Train Accuracy: 0.8571, Test Accuracy: 0.6460\n",
      "Epoch 200/256 - Loss: 0.3538, Train Accuracy: 0.8571, Test Accuracy: 0.6440\n",
      "Epoch 210/256 - Loss: 0.3470, Train Accuracy: 0.8571, Test Accuracy: 0.6420\n",
      "Epoch 220/256 - Loss: 0.3409, Train Accuracy: 0.8571, Test Accuracy: 0.6420\n",
      "Epoch 230/256 - Loss: 0.3356, Train Accuracy: 0.8571, Test Accuracy: 0.6410\n",
      "Epoch 240/256 - Loss: 0.3309, Train Accuracy: 0.8571, Test Accuracy: 0.6410\n",
      "Epoch 250/256 - Loss: 0.3268, Train Accuracy: 0.8571, Test Accuracy: 0.6400\n"
     ]
    },
    {
     "data": {
      "image/png": "[encoded data removed]",
      "text/plain": [
       "<Figure size 640x480 with 1 Axes>"
      ]
     },
     "metadata": {},
     "output_type": "display_data"
    },
    {
     "name": "stdout",
     "output_type": "stream",
     "text": [
      "Final test accuracy: 0.64\n"
     ]
    }
   ],
   "source": [
    "# GNN ONLY\n",
    "model.reset_parameters()\n",
    "train_accuracies, test_accuracies = train(model, data,  adj_matrix, params, mode = \"gnn\")\n",
    "\n",
    "plt.plot(train_accuracies, label='Train Accuracy', color='blue')\n",
    "plt.plot(test_accuracies, label='Test Accuracy', color='green')\n",
    "plt.xlabel('Epochs')\n",
    "plt.ylabel('Accuracy')\n",
    "plt.title('Training and Testing Accuracies Over Epochs (GNNs Only)')\n",
    "plt.legend()\n",
    "plt.show()\n",
    "\n",
    "print(\"Final test accuracy:\", test_accuracies[-1])"
   ]
  },
  {
   "cell_type": "code",
   "execution_count": 21,
   "metadata": {
    "colab": {
     "base_uri": "https://localhost:8080/",
     "height": 889
    },
    "id": "1JkfOJdAz2dt",
    "outputId": "bd4f39d6-d1cc-445a-d467-35daf3fc08b9"
   },
   "outputs": [
    {
     "name": "stdout",
     "output_type": "stream",
     "text": [
      "Epoch 0/256 - Loss: 1.9456, Train Accuracy: 0.1429, Test Accuracy: 0.1300\n",
      "Epoch 10/256 - Loss: 1.9302, Train Accuracy: 0.3429, Test Accuracy: 0.1620\n",
      "Epoch 20/256 - Loss: 1.9141, Train Accuracy: 0.4714, Test Accuracy: 0.2040\n",
      "Epoch 30/256 - Loss: 1.8956, Train Accuracy: 0.5214, Test Accuracy: 0.2480\n",
      "Epoch 40/256 - Loss: 1.8741, Train Accuracy: 0.6000, Test Accuracy: 0.2940\n",
      "Epoch 50/256 - Loss: 1.8490, Train Accuracy: 0.6429, Test Accuracy: 0.3300\n",
      "Epoch 60/256 - Loss: 1.8191, Train Accuracy: 0.6714, Test Accuracy: 0.3580\n",
      "Epoch 70/256 - Loss: 1.7852, Train Accuracy: 0.6929, Test Accuracy: 0.3850\n",
      "Epoch 80/256 - Loss: 1.7479, Train Accuracy: 0.7000, Test Accuracy: 0.4010\n",
      "Epoch 90/256 - Loss: 1.7075, Train Accuracy: 0.7000, Test Accuracy: 0.4170\n",
      "Epoch 100/256 - Loss: 1.6644, Train Accuracy: 0.7000, Test Accuracy: 0.4240\n",
      "Epoch 110/256 - Loss: 1.6187, Train Accuracy: 0.7071, Test Accuracy: 0.4310\n",
      "Epoch 120/256 - Loss: 1.5711, Train Accuracy: 0.7143, Test Accuracy: 0.4320\n",
      "Epoch 130/256 - Loss: 1.5217, Train Accuracy: 0.7143, Test Accuracy: 0.4340\n",
      "Epoch 140/256 - Loss: 1.4712, Train Accuracy: 0.7143, Test Accuracy: 0.4350\n",
      "Epoch 150/256 - Loss: 1.4204, Train Accuracy: 0.7143, Test Accuracy: 0.4370\n",
      "Epoch 160/256 - Loss: 1.3697, Train Accuracy: 0.7143, Test Accuracy: 0.4350\n",
      "Epoch 170/256 - Loss: 1.3196, Train Accuracy: 0.7143, Test Accuracy: 0.4360\n",
      "Epoch 180/256 - Loss: 1.2707, Train Accuracy: 0.7143, Test Accuracy: 0.4360\n",
      "Epoch 190/256 - Loss: 1.2234, Train Accuracy: 0.7143, Test Accuracy: 0.4390\n",
      "Epoch 200/256 - Loss: 1.1778, Train Accuracy: 0.7143, Test Accuracy: 0.4420\n",
      "Epoch 210/256 - Loss: 1.1343, Train Accuracy: 0.7143, Test Accuracy: 0.4420\n",
      "Epoch 220/256 - Loss: 1.0932, Train Accuracy: 0.7143, Test Accuracy: 0.4420\n",
      "Epoch 230/256 - Loss: 1.0547, Train Accuracy: 0.7143, Test Accuracy: 0.4430\n",
      "Epoch 240/256 - Loss: 1.0188, Train Accuracy: 0.7143, Test Accuracy: 0.4420\n",
      "Epoch 250/256 - Loss: 0.9856, Train Accuracy: 0.7143, Test Accuracy: 0.4390\n"
     ]
    },
    {
     "data": {
      "image/png": "[encoded data removed]",
      "text/plain": [
       "<Figure size 640x480 with 1 Axes>"
      ]
     },
     "metadata": {},
     "output_type": "display_data"
    },
    {
     "name": "stdout",
     "output_type": "stream",
     "text": [
      "Final test accuracy: 0.439\n"
     ]
    }
   ],
   "source": [
    "# MLP ONLY\n",
    "model.reset_parameters()\n",
    "train_accuracies, test_accuracies = train(model, data, adj_matrix, params, mode = 'mlp')\n",
    "\n",
    "plt.plot(train_accuracies, label='Train Accuracy', color='blue')\n",
    "plt.plot(test_accuracies, label='Test Accuracy', color='green')\n",
    "plt.xlabel('Epochs')\n",
    "plt.ylabel('Accuracy')\n",
    "plt.title('Training and Testing Accuracies Over Epochs (MLPs Only)')\n",
    "plt.legend()\n",
    "plt.show()\n",
    "\n",
    "print(\"Final test accuracy:\", test_accuracies[-1])"
   ]
  },
  {
   "cell_type": "markdown",
   "metadata": {
    "id": "VW-V8RYft7GC"
   },
   "source": [
    "### 2.2: Importance of non-linearities\n",
    "Try to replace all your activation functions with identities (or simply remove them). Do the results change? What does this tell you about this specific problem?"
   ]
  },
  {
   "cell_type": "code",
   "execution_count": 22,
   "metadata": {
    "id": "X4ch8LoWCkWr"
   },
   "outputs": [],
   "source": [
    "# Set a new model with identity activations\n",
    "model = CoraNodeClassification_mode(num_features,\n",
    "\t\t\t\t\t\t\t   params[\"hidden_features\"],\n",
    "\t\t\t\t\t\t\t   num_classes,\n",
    "\t\t\t\t\t\t\t   gnn_act_fn=nn.Identity, #ID is the identity function, replace it with the activation function you'd like to use\n",
    "\t\t\t\t\t\t\t   mlp_act_fn=nn.Identity\n",
    "  ).to(device)"
   ]
  },
  {
   "cell_type": "code",
   "execution_count": 23,
   "metadata": {
    "colab": {
     "base_uri": "https://localhost:8080/",
     "height": 889
    },
    "id": "w52KSSQh0Jrp",
    "outputId": "952224c3-e60e-464b-a54c-eb4a598f33ae"
   },
   "outputs": [
    {
     "name": "stdout",
     "output_type": "stream",
     "text": [
      "Epoch 0/256 - Loss: 2.0571, Train Accuracy: 0.1643, Test Accuracy: 0.1730\n",
      "Epoch 10/256 - Loss: 1.5077, Train Accuracy: 0.6357, Test Accuracy: 0.5170\n",
      "Epoch 20/256 - Loss: 1.2323, Train Accuracy: 0.7786, Test Accuracy: 0.6580\n",
      "Epoch 30/256 - Loss: 1.0109, Train Accuracy: 0.9143, Test Accuracy: 0.7080\n",
      "Epoch 40/256 - Loss: 0.8248, Train Accuracy: 0.9500, Test Accuracy: 0.7370\n",
      "Epoch 50/256 - Loss: 0.6671, Train Accuracy: 0.9786, Test Accuracy: 0.7460\n",
      "Epoch 60/256 - Loss: 0.5361, Train Accuracy: 0.9857, Test Accuracy: 0.7510\n",
      "Epoch 70/256 - Loss: 0.4290, Train Accuracy: 1.0000, Test Accuracy: 0.7520\n",
      "Epoch 80/256 - Loss: 0.3429, Train Accuracy: 1.0000, Test Accuracy: 0.7470\n",
      "Epoch 90/256 - Loss: 0.2740, Train Accuracy: 1.0000, Test Accuracy: 0.7530\n",
      "Epoch 100/256 - Loss: 0.2190, Train Accuracy: 1.0000, Test Accuracy: 0.7520\n",
      "Epoch 110/256 - Loss: 0.1750, Train Accuracy: 1.0000, Test Accuracy: 0.7530\n",
      "Epoch 120/256 - Loss: 0.1400, Train Accuracy: 1.0000, Test Accuracy: 0.7570\n",
      "Epoch 130/256 - Loss: 0.1123, Train Accuracy: 1.0000, Test Accuracy: 0.7550\n",
      "Epoch 140/256 - Loss: 0.0905, Train Accuracy: 1.0000, Test Accuracy: 0.7560\n",
      "Epoch 150/256 - Loss: 0.0732, Train Accuracy: 1.0000, Test Accuracy: 0.7540\n",
      "Epoch 160/256 - Loss: 0.0597, Train Accuracy: 1.0000, Test Accuracy: 0.7560\n",
      "Epoch 170/256 - Loss: 0.0490, Train Accuracy: 1.0000, Test Accuracy: 0.7570\n",
      "Epoch 180/256 - Loss: 0.0405, Train Accuracy: 1.0000, Test Accuracy: 0.7550\n",
      "Epoch 190/256 - Loss: 0.0337, Train Accuracy: 1.0000, Test Accuracy: 0.7550\n",
      "Epoch 200/256 - Loss: 0.0284, Train Accuracy: 1.0000, Test Accuracy: 0.7540\n",
      "Epoch 210/256 - Loss: 0.0241, Train Accuracy: 1.0000, Test Accuracy: 0.7540\n",
      "Epoch 220/256 - Loss: 0.0207, Train Accuracy: 1.0000, Test Accuracy: 0.7560\n",
      "Epoch 230/256 - Loss: 0.0179, Train Accuracy: 1.0000, Test Accuracy: 0.7570\n",
      "Epoch 240/256 - Loss: 0.0156, Train Accuracy: 1.0000, Test Accuracy: 0.7580\n",
      "Epoch 250/256 - Loss: 0.0137, Train Accuracy: 1.0000, Test Accuracy: 0.7590\n"
     ]
    },
    {
     "data": {
      "image/png": "[encoded data removed]",
      "text/plain": [
       "<Figure size 640x480 with 1 Axes>"
      ]
     },
     "metadata": {},
     "output_type": "display_data"
    },
    {
     "name": "stdout",
     "output_type": "stream",
     "text": [
      "Final test accuracy: 0.76\n"
     ]
    }
   ],
   "source": [
    "train_accuracies, test_accuracies = train(model, data, adj_matrix, params, mode = 'both')\n",
    "\n",
    "plt.plot(train_accuracies, label='Train Accuracy', color='blue')\n",
    "plt.plot(test_accuracies, label='Test Accuracy', color='green')\n",
    "plt.xlabel('Epochs')\n",
    "plt.ylabel('Accuracy')\n",
    "plt.title('Training and Testing Accuracies Over Epochs (Identiy Activations)')\n",
    "plt.legend()\n",
    "plt.show()\n",
    "\n",
    "print(\"Final test accuracy:\", test_accuracies[-1])"
   ]
  }
 ],
 "metadata": {
  "colab": {
   "provenance": []
  },
  "kernelspec": {
   "display_name": "GRL",
   "language": "python",
   "name": "python3"
  },
  "language_info": {
   "codemirror_mode": {
    "name": "ipython",
    "version": 3
   },
   "file_extension": ".py",
   "mimetype": "text/x-python",
   "name": "python",
   "nbconvert_exporter": "python",
   "pygments_lexer": "ipython3",
   "version": "3.9.20"
  }
 },
 "nbformat": 4,
 "nbformat_minor": 0
}
